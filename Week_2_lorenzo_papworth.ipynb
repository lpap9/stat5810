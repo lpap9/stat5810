{
  "cells": [
    {
      "cell_type": "markdown",
      "metadata": {
        "id": "tuuPkYOKpZFs"
      },
      "source": [
        "## 1. Basic operations\n",
        "\n",
        "I am attempting to print the following mathematical operations, but it throws an error. \n",
        "\n",
        "(a) $16 \\times 10$\n",
        "\n",
        "(b) $48 \\div 5 $\n",
        "\n",
        "(c) $5^3$\n",
        "\n",
        "Fix the code in the code block below to make it work correctly:\n"
      ]
    },
    {
      "cell_type": "code",
      "execution_count": 1,
      "metadata": {
        "colab": {
          "base_uri": "https://localhost:8080/",
          "height": 145
        },
        "id": "k0V8eEbLpSv8",
        "outputId": "22bdcb43-1779-4aa0-b979-f5d087784be8"
      },
      "outputs": [
        {
          "name": "stdout",
          "output_type": "stream",
          "text": [
            "160\n",
            "9.6\n",
            "6\n"
          ]
        }
      ],
      "source": [
        "print(16*10) \n",
        "print(48/5) \n",
        "print(5^3)"
      ]
    },
    {
      "cell_type": "markdown",
      "metadata": {
        "id": "EwITbCVyqQun"
      },
      "source": [
        "## 2. Basic syntax and string formatting\n",
        "\n",
        "|track\\_name| price | currency | rating\\_count\\_tot | user\\_rating |\n",
        "| --- | --- | --- | --- | --- |\n",
        "| Facebook | 0.0  | USD  | 2974676 | 3.5 |\n",
        "| Instagram | 0.0  | USD  | 2161558 | 4.5 |\n",
        "| Clash of Clans | 0.0  | USD  | 2130805 | 4.5 |\n",
        "| Fruit Ninja Classic | 1.99  | USD  | 698516 | 4.5 |\n",
        "| Minecraft: Pocket Edition | 6.99 | USD | 522012 | 4.5 |\n",
        "\n",
        "\n"
      ]
    },
    {
      "cell_type": "markdown",
      "metadata": {
        "id": "2gQhg5pgsDbO"
      },
      "source": [
        "1. Now I am attempting to use the $\\textit{print()}$ function to display the results for the following operations, but I got an error here.   \n",
        "\n",
        "- The cost of purchasing Instagram and Minecraft: Pocket Edition\n",
        "\n",
        "- The difference in the average rating score for Facebook and Instagram\n",
        "\n",
        "Fix the code in the code block below to make it work.\n",
        "\n"
      ]
    },
    {
      "cell_type": "code",
      "execution_count": 2,
      "metadata": {
        "colab": {
          "base_uri": "https://localhost:8080/",
          "height": 145
        },
        "id": "V5lmurYqqLjW",
        "outputId": "f12a0697-1f8f-4ba2-ebc0-d72da55e9648"
      },
      "outputs": [
        {
          "name": "stdout",
          "output_type": "stream",
          "text": [
            "6.99\n",
            "1.0\n"
          ]
        }
      ],
      "source": [
        "print(0.00 + 6.99) \n",
        "print(4.5 - 3.5)"
      ]
    },
    {
      "cell_type": "markdown",
      "metadata": {
        "id": "JXgire85pZH9"
      },
      "source": [
        "2. Using the $\\textit{print()}$ function, print out the cost of purchasing the Fruit Ninja Classic and the Minecraft: Pocket Edition apps. Refer to the table for the price of each app. Enter your code in the code block below."
      ]
    },
    {
      "cell_type": "code",
      "execution_count": 3,
      "metadata": {
        "id": "8lzuD53bs1lU"
      },
      "outputs": [
        {
          "name": "stdout",
          "output_type": "stream",
          "text": [
            "8.98\n"
          ]
        }
      ],
      "source": [
        "print(1.99+6.99)"
      ]
    },
    {
      "cell_type": "markdown",
      "metadata": {
        "id": "4FJu8huWs7op"
      },
      "source": [
        "3. Store the value 6.99 in a variable named minecraft\\_cost, and the result of 1.99 in a variable named fruit\\_ninja\\_cost. Using either the string method $\\textit{format()}$ or an f-string combined with these variables, write code in the code block below that creates the following and then print each result:\n",
        "\n",
        "    (a) A string that says \"Minecraft: Pocket edition costs\" followed by the cost\n",
        "\n",
        "    (b) A string that says \"Raising the price of Fruit Ninja by $1.99 would give a price of\" followed by the amount\n",
        "\n",
        "    (c) A string that says \"Together, Fruit Ninja and Minecraft cost\" followed by the cost"
      ]
    },
    {
      "cell_type": "code",
      "execution_count": 5,
      "metadata": {
        "id": "0wz60_YKs6Ui"
      },
      "outputs": [
        {
          "name": "stdout",
          "output_type": "stream",
          "text": [
            "Minecraft: Pocket edition costs 6.99\n",
            "Raising the price of Fruit Ninja by $1.99 would give a price of 3.98\n",
            "Together, Fruit Ninja and Minecraft cost $8.98\n"
          ]
        }
      ],
      "source": [
        "minecraft_cost = 6.99\n",
        "fruit_ninja_cost = 1.99\n",
        "price_raise = 1.99\n",
        "a = f\"Minecraft: Pocket edition costs {minecraft_cost}\"\n",
        "b = f\"Raising the price of Fruit Ninja by ${price_raise} would give a price of {fruit_ninja_cost + price_raise}\"\n",
        "c = f\"Together, Fruit Ninja and Minecraft cost ${minecraft_cost + fruit_ninja_cost}\"\n",
        "print(a)\n",
        "print(b)\n",
        "print(c)"
      ]
    },
    {
      "cell_type": "markdown",
      "metadata": {
        "id": "Izas6QuDAprY"
      },
      "source": [
        "## Disarium\n",
        "\n",
        "A number is said to be Disarium if the sum of its digits raised to their respective positions is the number itself. Write code that given a number, determines whether it is Disarium or not. Then check to see whether the following numbers are Disarium or not. Your code should create an output variable that is either True or False. Your code should be written generically enough that it will work for any positive integer that you start with. \n",
        "\n",
        "(a) $75$\n",
        "\n",
        "(b) $135$\n",
        "\n",
        "(c) $544$\n",
        "\n",
        "(d) $518$\n",
        "\n",
        "(e) $466$\n"
      ]
    },
    {
      "cell_type": "code",
      "execution_count": 23,
      "metadata": {
        "id": "qAycsp3WAspN"
      },
      "outputs": [
        {
          "name": "stdout",
          "output_type": "stream",
          "text": [
            "False\n",
            "True\n",
            "False\n",
            "True\n",
            "False\n"
          ]
        }
      ],
      "source": [
        "p_num = [75,135,544,518,466]\n",
        "for i in range(5):\n",
        "    if (p_num[i]//100)**1 + (((p_num[i]//10)*10 - ((p_num[i]//100)*100))//10)**2 + (p_num[i] - ((p_num[i]//10)*10))**3 == p_num[i]:\n",
        "        disarium = True\n",
        "    else:\n",
        "        disarium = False\n",
        "    print(disarium)"
      ]
    },
    {
      "cell_type": "markdown",
      "metadata": {
        "id": "CEpcAlnwtXWG"
      },
      "source": [
        "## Lists\n",
        "\n",
        "The number of birds present at a series of sampling sites has been counted by your field crew and entered into the following list. The first item in each sublist is an alphanumeric code for the site and the second value is the number of birds. Run the following code to load the data, and then write code to solve the questions below."
      ]
    },
    {
      "cell_type": "code",
      "execution_count": 1,
      "metadata": {
        "id": "TatYaCIdti5e"
      },
      "outputs": [],
      "source": [
        "data = [['A1', 28], ['A2', 32], ['A3', 1], ['A4', 0],\n",
        "        ['A5', 10], ['A6', 22], ['A7', 30], ['A8', 19],\n",
        "\t\t['B1', 145], ['B2', 27], ['B3', 36], ['B4', 25],\n",
        "\t\t['B5', 9], ['B6', 38], ['B7', 21], ['B8', 12],\n",
        "\t\t['C1', 122], ['C2', 87], ['C3', 36], ['C4', 3],\n",
        "\t\t['D1', 0], ['D2', 5], ['D3', 55], ['D4', 62],\n",
        "\t\t['D5', 98], ['D6', 32]]"
      ]
    },
    {
      "cell_type": "markdown",
      "metadata": {
        "id": "k5Hr3TjNtryK"
      },
      "source": [
        "1. How many sites are there?"
      ]
    },
    {
      "cell_type": "code",
      "execution_count": 28,
      "metadata": {
        "colab": {
          "base_uri": "https://localhost:8080/"
        },
        "id": "a3ll4Ichtlua",
        "outputId": "c6cd4694-7302-4720-eab9-1e74d18e93bf"
      },
      "outputs": [
        {
          "name": "stdout",
          "output_type": "stream",
          "text": [
            "26\n"
          ]
        }
      ],
      "source": [
        "print(len(data))"
      ]
    },
    {
      "cell_type": "markdown",
      "metadata": {
        "id": "-ZJftBlwt025"
      },
      "source": [
        "2. How many birds were counted at the 7th site?"
      ]
    },
    {
      "cell_type": "code",
      "execution_count": 11,
      "metadata": {
        "colab": {
          "base_uri": "https://localhost:8080/"
        },
        "id": "dxL0ykYtt094",
        "outputId": "4c9a50b3-34b4-486f-9f99-677fa64ca456"
      },
      "outputs": [
        {
          "name": "stdout",
          "output_type": "stream",
          "text": [
            "30\n"
          ]
        }
      ],
      "source": [
        "print(data[6][1])"
      ]
    },
    {
      "cell_type": "markdown",
      "metadata": {
        "id": "jAOhv9K9t1Eq"
      },
      "source": [
        "3. How many birds were counted at the last site?"
      ]
    },
    {
      "cell_type": "code",
      "execution_count": 12,
      "metadata": {
        "colab": {
          "base_uri": "https://localhost:8080/"
        },
        "id": "0fFL2cjbt1K7",
        "outputId": "21a9cbd8-631f-4a83-c78a-db6d91dd8694"
      },
      "outputs": [
        {
          "name": "stdout",
          "output_type": "stream",
          "text": [
            "32\n"
          ]
        }
      ],
      "source": [
        "print(data[25][1])"
      ]
    },
    {
      "cell_type": "markdown",
      "metadata": {
        "id": "BGI2RdZNt1R9"
      },
      "source": [
        "4. What is the total number of birds counted across all sites?"
      ]
    },
    {
      "cell_type": "code",
      "execution_count": 40,
      "metadata": {
        "id": "FUx4Bb1LGwnj"
      },
      "outputs": [
        {
          "name": "stdout",
          "output_type": "stream",
          "text": [
            "955\n"
          ]
        }
      ],
      "source": [
        "t = 0\n",
        "for i in range(26):\n",
        "    s = data[i][1]\n",
        "    t += s\n",
        "print(t)"
      ]
    },
    {
      "cell_type": "markdown",
      "metadata": {
        "id": "qRg1NwX2t6gF"
      },
      "source": [
        "5. What is the average number of birds seen on a site?\n",
        "\n"
      ]
    },
    {
      "cell_type": "code",
      "execution_count": 38,
      "metadata": {
        "id": "MZdY3Pz9FxDa"
      },
      "outputs": [
        {
          "name": "stdout",
          "output_type": "stream",
          "text": [
            "36.73076923076923\n"
          ]
        }
      ],
      "source": [
        "t = 0\n",
        "for i in range(26):\n",
        "    s = data[i][1]\n",
        "    t += s\n",
        "print(t/26)"
      ]
    },
    {
      "cell_type": "markdown",
      "metadata": {
        "id": "sBWMjk-2t-w_"
      },
      "source": [
        "6. What is the total number of birds counted on sites with codes beginning with C? Don’t just identify these sites by eye. In the real world there could be hundreds or thousands of sites. Write code that does this automatically."
      ]
    },
    {
      "cell_type": "code",
      "execution_count": 74,
      "metadata": {
        "id": "cILQkspSt8mb"
      },
      "outputs": [
        {
          "name": "stdout",
          "output_type": "stream",
          "text": [
            "248\n"
          ]
        }
      ],
      "source": [
        "c_list = [item for item in data if 'C' in item[0]]\n",
        "t = 0\n",
        "for i in range(len(c_list)):\n",
        "    s = c_list[i][1]\n",
        "    t += s\n",
        "print(t)"
      ]
    },
    {
      "cell_type": "markdown",
      "metadata": {
        "id": "bITUL5lcuNbh"
      },
      "source": [
        "## Sum of Odd and Even Numbers\n",
        "\n",
        "Write a program to compute the sum of all even numbers, and the sum of all odd numbers in the following list."
      ]
    },
    {
      "cell_type": "code",
      "execution_count": 49,
      "metadata": {
        "id": "QMvJg39QuN-a"
      },
      "outputs": [],
      "source": [
        "l = [1, 2, 3, 4, 5, 6]\n",
        "# expected output should be 2+4+6=12 and 1+3+5=9"
      ]
    },
    {
      "cell_type": "code",
      "execution_count": 58,
      "metadata": {
        "id": "hyWIqDsTus1t"
      },
      "outputs": [
        {
          "name": "stdout",
          "output_type": "stream",
          "text": [
            "2+4+6=12\n",
            "1+3+5=9\n"
          ]
        }
      ],
      "source": [
        "even = l[1:6:2]\n",
        "odd = l[0:5:2]\n",
        "print(str(even[0])+\"+\"+str(even[1])+\"+\"+str(even[2])+ \"=\"+str(sum(even)))\n",
        "print(str(odd[0])+\"+\"+str(odd[1])+\"+\"+str(odd[2])+ \"=\"+str(sum(odd)))"
      ]
    },
    {
      "cell_type": "markdown",
      "metadata": {
        "id": "BjR5nuOiu1l0"
      },
      "source": [
        "## Lists of Multiples\n",
        "\n",
        "Use the $\\textit{range()}$ function to generate a list of multiples described as follows:\n",
        "\n",
        "(a) Generate the first $5$ multiples of the number $7$\n",
        "\n",
        "(b) Generate the first $10$ multiples of $12$\n",
        "\n",
        "(c) Generate the first $6$ multiples of $17$"
      ]
    },
    {
      "cell_type": "code",
      "execution_count": null,
      "metadata": {
        "id": "1ktNjeWcGQvv"
      },
      "outputs": [],
      "source": [
        "# for example: the expected output for (a) is [7, 14, 21, 28, 35]"
      ]
    },
    {
      "cell_type": "code",
      "execution_count": 67,
      "metadata": {
        "id": "3tAg-2JXu2Kl"
      },
      "outputs": [
        {
          "name": "stdout",
          "output_type": "stream",
          "text": [
            "[7, 14, 21, 28, 35]\n",
            "[12, 24, 36, 48, 60, 72, 84, 96, 108, 120]\n",
            "[17, 34, 51, 68, 85, 102]\n"
          ]
        }
      ],
      "source": [
        "n = [1, 2, 3, 4, 5, 6, 7, 8, 9, 10]\n",
        "a_list = []\n",
        "b_list = []\n",
        "c_list = []\n",
        "for i in range(5):\n",
        "    a_list.append(7*n[i])\n",
        "print(a_list)\n",
        "for i in range(10):\n",
        "    b_list.append(12*n[i])\n",
        "print(b_list)\n",
        "for i in range(6):\n",
        "    c_list.append(17*n[i])\n",
        "print(c_list)"
      ]
    },
    {
      "cell_type": "markdown",
      "metadata": {
        "id": "mlZSoRxSvYQ3"
      },
      "source": [
        "## Remove items from a list while iterating\n",
        "\n",
        "In this question, you will need to remove items from a list while iterating but without creating a different copy of that list. \n",
        "\n",
        "Remove numbers greater than 50 for the following list:"
      ]
    },
    {
      "cell_type": "code",
      "execution_count": null,
      "metadata": {
        "id": "7slGqToDu2e2"
      },
      "outputs": [],
      "source": [
        "number_list = [10, 20, 30, 40, 50, 60, 70, 80, 90, 100]\n",
        "\n",
        "# Expected Output ---> [10, 20, 30, 40, 50]"
      ]
    },
    {
      "cell_type": "markdown",
      "metadata": {
        "id": "SanWuYcuGIiQ"
      },
      "source": [
        "(a) Use for loop to complete this"
      ]
    },
    {
      "cell_type": "code",
      "execution_count": 50,
      "metadata": {
        "id": "h5cF91nzu2hN"
      },
      "outputs": [
        {
          "name": "stdout",
          "output_type": "stream",
          "text": [
            "[10, 20, 30, 40, 50]\n"
          ]
        }
      ],
      "source": [
        "number_list = [10, 20, 30, 40, 50, 60, 70, 80, 90, 100]\n",
        "n = number_list[0]\n",
        "for n in range(0, 5):\n",
        "    number_list.pop()\n",
        "print(number_list)"
      ]
    },
    {
      "cell_type": "markdown",
      "metadata": {
        "id": "oPxudFloGMZY"
      },
      "source": [
        "(b) Use while loop to complete this"
      ]
    },
    {
      "cell_type": "code",
      "execution_count": 43,
      "metadata": {
        "id": "XQENgcBiu2jz"
      },
      "outputs": [
        {
          "name": "stdout",
          "output_type": "stream",
          "text": [
            "[10, 20, 30, 40, 50]\n"
          ]
        }
      ],
      "source": [
        "number_list = [10, 20, 30, 40, 50, 60, 70, 80, 90, 100]\n",
        "n = number_list[0]\n",
        "while n < 60:\n",
        "    number_list.pop()\n",
        "    n += 10\n",
        "print(number_list)"
      ]
    },
    {
      "cell_type": "code",
      "execution_count": null,
      "metadata": {},
      "outputs": [],
      "source": []
    }
  ],
  "metadata": {
    "colab": {
      "provenance": [],
      "toc_visible": true
    },
    "kernelspec": {
      "display_name": "Python 3",
      "name": "python3"
    },
    "language_info": {
      "codemirror_mode": {
        "name": "ipython",
        "version": 3
      },
      "file_extension": ".py",
      "mimetype": "text/x-python",
      "name": "python",
      "nbconvert_exporter": "python",
      "pygments_lexer": "ipython3",
      "version": "3.11.5"
    }
  },
  "nbformat": 4,
  "nbformat_minor": 0
}
