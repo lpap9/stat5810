{
  "cells": [
    {
      "cell_type": "markdown",
      "metadata": {
        "id": "-MYciE4rniGR"
      },
      "source": [
        "## Problem 1 --- Calculator\n",
        "\n",
        "A) Write a function called calculator. It should take the following parameters: two numbers, an arithmetic operation (which can be addition, subtraction, multiplication or division and is addition by default), and an output format (which can be integer or floating point, and is floating point by default). Division should be floating-point division.\n",
        "\n",
        "The function should perform the requested operation on the two input numbers, and return a result in the requested format (if the format is integer, the result should be rounded and not just truncated). Raise exceptions as appropriate if any of the parameters passed to the function are invalid.\n",
        "\n"
      ]
    },
    {
      "cell_type": "code",
      "execution_count": 29,
      "metadata": {
        "id": "UOsOpNeTpj1r"
      },
      "outputs": [],
      "source": [
        "# Let's use 'ADD', 'SUB', 'MUL', 'DIV' to represent the four arithmetic operations\n",
        "\n",
        "def calculator(a, b, operation = 'ADD', output_format = float):\n",
        "    if operation == 'ADD' and (output_format == float or output_format == int):\n",
        "        return output_format(a + b)\n",
        "    elif operation == 'SUB' and (output_format == float or output_format == int):\n",
        "        return output_format(a - b)\n",
        "    elif operation == 'MUL' and (output_format == float or output_format == int):\n",
        "        return output_format(a * b)\n",
        "    elif operation == 'DIV' and (output_format == float or output_format == int):\n",
        "        return output_format(a / b)\n",
        "    else:\n",
        "        raise ValueError('Invalid operation or output format!')\n",
        "    "
      ]
    },
    {
      "cell_type": "code",
      "execution_count": 30,
      "metadata": {
        "colab": {
          "base_uri": "https://localhost:8080/"
        },
        "id": "fDVEJ5-Jrg1c",
        "outputId": "ac4cbb54-60c9-4600-d20b-77747b89d860"
      },
      "outputs": [
        {
          "name": "stdout",
          "output_type": "stream",
          "text": [
            "3.0\n"
          ]
        }
      ],
      "source": [
        "# some example output\n",
        "print(calculator(1, 2, 'ADD', float))"
      ]
    },
    {
      "cell_type": "code",
      "execution_count": 31,
      "metadata": {
        "colab": {
          "base_uri": "https://localhost:8080/"
        },
        "id": "Qp2o3lgmw0QY",
        "outputId": "b12554d5-d0e9-4f84-b0e0-3497d5f2f50f"
      },
      "outputs": [
        {
          "name": "stdout",
          "output_type": "stream",
          "text": [
            "3\n"
          ]
        }
      ],
      "source": [
        "print(calculator(1, 2, 'ADD', int))"
      ]
    },
    {
      "cell_type": "code",
      "execution_count": 32,
      "metadata": {
        "colab": {
          "base_uri": "https://localhost:8080/",
          "height": 306
        },
        "id": "Tyin3fcJxXtt",
        "outputId": "8acdda75-ab24-4039-a586-77ac94e4594f"
      },
      "outputs": [
        {
          "ename": "ValueError",
          "evalue": "Invalid operation or output format!",
          "output_type": "error",
          "traceback": [
            "\u001b[1;31m---------------------------------------------------------------------------\u001b[0m",
            "\u001b[1;31mValueError\u001b[0m                                Traceback (most recent call last)",
            "Cell \u001b[1;32mIn[32], line 2\u001b[0m\n\u001b[0;32m      1\u001b[0m \u001b[38;5;66;03m# raise exception when the operation is wrong\u001b[39;00m\n\u001b[1;32m----> 2\u001b[0m \u001b[38;5;28mprint\u001b[39m(\u001b[43mcalculator\u001b[49m\u001b[43m(\u001b[49m\u001b[38;5;241;43m1\u001b[39;49m\u001b[43m,\u001b[49m\u001b[43m \u001b[49m\u001b[38;5;241;43m2\u001b[39;49m\u001b[43m,\u001b[49m\u001b[43m \u001b[49m\u001b[38;5;124;43m'\u001b[39;49m\u001b[38;5;124;43mOther\u001b[39;49m\u001b[38;5;124;43m'\u001b[39;49m\u001b[43m,\u001b[49m\u001b[43m \u001b[49m\u001b[38;5;28;43mint\u001b[39;49m\u001b[43m)\u001b[49m)\n",
            "Cell \u001b[1;32mIn[29], line 13\u001b[0m, in \u001b[0;36mcalculator\u001b[1;34m(a, b, operation, output_format)\u001b[0m\n\u001b[0;32m     11\u001b[0m     \u001b[38;5;28;01mreturn\u001b[39;00m output_format(a \u001b[38;5;241m/\u001b[39m b)\n\u001b[0;32m     12\u001b[0m \u001b[38;5;28;01melse\u001b[39;00m:\n\u001b[1;32m---> 13\u001b[0m     \u001b[38;5;28;01mraise\u001b[39;00m \u001b[38;5;167;01mValueError\u001b[39;00m(\u001b[38;5;124m'\u001b[39m\u001b[38;5;124mInvalid operation or output format!\u001b[39m\u001b[38;5;124m'\u001b[39m)\n",
            "\u001b[1;31mValueError\u001b[0m: Invalid operation or output format!"
          ]
        }
      ],
      "source": [
        "# raise exception when the operation is wrong\n",
        "print(calculator(1, 2, 'Other', int))"
      ]
    },
    {
      "cell_type": "code",
      "execution_count": 33,
      "metadata": {
        "colab": {
          "base_uri": "https://localhost:8080/",
          "height": 306
        },
        "id": "Zzu52gKPxXvu",
        "outputId": "27f62dcf-8d76-43c7-b7f5-34b2ec681724"
      },
      "outputs": [
        {
          "ename": "ValueError",
          "evalue": "Invalid operation or output format!",
          "output_type": "error",
          "traceback": [
            "\u001b[1;31m---------------------------------------------------------------------------\u001b[0m",
            "\u001b[1;31mValueError\u001b[0m                                Traceback (most recent call last)",
            "Cell \u001b[1;32mIn[33], line 2\u001b[0m\n\u001b[0;32m      1\u001b[0m \u001b[38;5;66;03m# # raise exception when the output is wrong\u001b[39;00m\n\u001b[1;32m----> 2\u001b[0m \u001b[38;5;28mprint\u001b[39m(\u001b[43mcalculator\u001b[49m\u001b[43m(\u001b[49m\u001b[38;5;241;43m1\u001b[39;49m\u001b[43m,\u001b[49m\u001b[43m \u001b[49m\u001b[38;5;241;43m2\u001b[39;49m\u001b[43m,\u001b[49m\u001b[43m \u001b[49m\u001b[38;5;124;43m'\u001b[39;49m\u001b[38;5;124;43mADD\u001b[39;49m\u001b[38;5;124;43m'\u001b[39;49m\u001b[43m,\u001b[49m\u001b[43m \u001b[49m\u001b[38;5;28;43mstr\u001b[39;49m\u001b[43m)\u001b[49m)\n",
            "Cell \u001b[1;32mIn[29], line 13\u001b[0m, in \u001b[0;36mcalculator\u001b[1;34m(a, b, operation, output_format)\u001b[0m\n\u001b[0;32m     11\u001b[0m     \u001b[38;5;28;01mreturn\u001b[39;00m output_format(a \u001b[38;5;241m/\u001b[39m b)\n\u001b[0;32m     12\u001b[0m \u001b[38;5;28;01melse\u001b[39;00m:\n\u001b[1;32m---> 13\u001b[0m     \u001b[38;5;28;01mraise\u001b[39;00m \u001b[38;5;167;01mValueError\u001b[39;00m(\u001b[38;5;124m'\u001b[39m\u001b[38;5;124mInvalid operation or output format!\u001b[39m\u001b[38;5;124m'\u001b[39m)\n",
            "\u001b[1;31mValueError\u001b[0m: Invalid operation or output format!"
          ]
        }
      ],
      "source": [
        "# # raise exception when the output is wrong\n",
        "print(calculator(1, 2, 'ADD', str))"
      ]
    },
    {
      "cell_type": "markdown",
      "metadata": {},
      "source": [
        "B) Call the function with the following sets of parameters and check that the answer is correct:\n",
        "1) 2, 3.0\n",
        "2) 2, 3.0, output an integer\n",
        "3) 2, 4.5, operation is division \n",
        "4) 3, 2.1, operation is division, output is an integer"
      ]
    },
    {
      "cell_type": "code",
      "execution_count": 37,
      "metadata": {
        "id": "xsl-k6-ixawc"
      },
      "outputs": [
        {
          "name": "stdout",
          "output_type": "stream",
          "text": [
            "5.0\n"
          ]
        }
      ],
      "source": [
        "print(calculator(2, 3.0))"
      ]
    },
    {
      "cell_type": "code",
      "execution_count": 38,
      "metadata": {},
      "outputs": [
        {
          "ename": "ValueError",
          "evalue": "Invalid operation or output format!",
          "output_type": "error",
          "traceback": [
            "\u001b[1;31m---------------------------------------------------------------------------\u001b[0m",
            "\u001b[1;31mValueError\u001b[0m                                Traceback (most recent call last)",
            "Cell \u001b[1;32mIn[38], line 1\u001b[0m\n\u001b[1;32m----> 1\u001b[0m \u001b[38;5;28mprint\u001b[39m(\u001b[43mcalculator\u001b[49m\u001b[43m(\u001b[49m\u001b[38;5;241;43m2\u001b[39;49m\u001b[43m,\u001b[49m\u001b[43m \u001b[49m\u001b[38;5;241;43m3.0\u001b[39;49m\u001b[43m,\u001b[49m\u001b[43m \u001b[49m\u001b[38;5;28;43mint\u001b[39;49m\u001b[43m)\u001b[49m)\n",
            "Cell \u001b[1;32mIn[29], line 13\u001b[0m, in \u001b[0;36mcalculator\u001b[1;34m(a, b, operation, output_format)\u001b[0m\n\u001b[0;32m     11\u001b[0m     \u001b[38;5;28;01mreturn\u001b[39;00m output_format(a \u001b[38;5;241m/\u001b[39m b)\n\u001b[0;32m     12\u001b[0m \u001b[38;5;28;01melse\u001b[39;00m:\n\u001b[1;32m---> 13\u001b[0m     \u001b[38;5;28;01mraise\u001b[39;00m \u001b[38;5;167;01mValueError\u001b[39;00m(\u001b[38;5;124m'\u001b[39m\u001b[38;5;124mInvalid operation or output format!\u001b[39m\u001b[38;5;124m'\u001b[39m)\n",
            "\u001b[1;31mValueError\u001b[0m: Invalid operation or output format!"
          ]
        }
      ],
      "source": [
        "print(calculator(2, 3.0, int))\n"
      ]
    },
    {
      "cell_type": "code",
      "execution_count": 39,
      "metadata": {},
      "outputs": [
        {
          "name": "stdout",
          "output_type": "stream",
          "text": [
            "0.4444444444444444\n"
          ]
        }
      ],
      "source": [
        "print(calculator(2, 4.5, 'DIV'))"
      ]
    },
    {
      "cell_type": "code",
      "execution_count": 40,
      "metadata": {},
      "outputs": [
        {
          "name": "stdout",
          "output_type": "stream",
          "text": [
            "1\n"
          ]
        }
      ],
      "source": [
        "print(calculator(3, 2.1, 'DIV', int))"
      ]
    },
    {
      "cell_type": "markdown",
      "metadata": {},
      "source": [
        "C) Rewrite your calculator function so that it takes any number of number parameters. The function should apply the operation to the first two numbers, and then apply it again to the result and the next number, and so on. For example, if the numbers are 6, 3, 5, and 1 and the operation is subtraction, the the function should return 6 - 3 - 5 - 1. If only one number is entered, return it. If no numbers are entered, raise an exception. "
      ]
    },
    {
      "cell_type": "code",
      "execution_count": 8,
      "metadata": {},
      "outputs": [
        {
          "data": {
            "text/plain": [
              "-3.0"
            ]
          },
          "execution_count": 8,
          "metadata": {},
          "output_type": "execute_result"
        }
      ],
      "source": [
        "def calculator(*nums, operation = 'ADD', output_format = float):\n",
        "    if nums == ():\n",
        "        raise ValueError('No numbers are given!')\n",
        "    elif operation == 'ADD' and (output_format == float or output_format == int):\n",
        "        return output_format(sum(nums))\n",
        "    elif operation == 'SUB' and (output_format == float or output_format == int):\n",
        "        return output_format(nums[0] - sum(nums[1:]))\n",
        "    elif operation == 'MUL' and (output_format == float or output_format == int):\n",
        "        result = 1\n",
        "        for i in nums:\n",
        "            result *= i\n",
        "        return output_format(result)\n",
        "    elif operation == 'DIV' and (output_format == float or output_format == int):\n",
        "        result = nums[0]\n",
        "        for i in nums[1:]:\n",
        "            result /= i\n",
        "        return output_format(result)\n",
        "    else:\n",
        "        raise ValueError('Invalid operation or output format!')\n",
        "    "
      ]
    },
    {
      "cell_type": "code",
      "execution_count": 10,
      "metadata": {},
      "outputs": [
        {
          "name": "stdout",
          "output_type": "stream",
          "text": [
            "-3.0\n",
            "4.0\n"
          ]
        },
        {
          "ename": "ValueError",
          "evalue": "No numbers are given!",
          "output_type": "error",
          "traceback": [
            "\u001b[1;31m---------------------------------------------------------------------------\u001b[0m",
            "\u001b[1;31mValueError\u001b[0m                                Traceback (most recent call last)",
            "Cell \u001b[1;32mIn[10], line 3\u001b[0m\n\u001b[0;32m      1\u001b[0m \u001b[38;5;28mprint\u001b[39m(calculator(\u001b[38;5;241m6\u001b[39m,\u001b[38;5;241m3\u001b[39m,\u001b[38;5;241m5\u001b[39m,\u001b[38;5;241m1\u001b[39m, operation\u001b[38;5;241m=\u001b[39m\u001b[38;5;124m'\u001b[39m\u001b[38;5;124mSUB\u001b[39m\u001b[38;5;124m'\u001b[39m))\n\u001b[0;32m      2\u001b[0m \u001b[38;5;28mprint\u001b[39m(calculator(\u001b[38;5;241m4\u001b[39m))\n\u001b[1;32m----> 3\u001b[0m \u001b[38;5;28mprint\u001b[39m(\u001b[43mcalculator\u001b[49m\u001b[43m(\u001b[49m\u001b[43m)\u001b[49m)\n",
            "Cell \u001b[1;32mIn[8], line 3\u001b[0m, in \u001b[0;36mcalculator\u001b[1;34m(operation, output_format, *nums)\u001b[0m\n\u001b[0;32m      1\u001b[0m \u001b[38;5;28;01mdef\u001b[39;00m \u001b[38;5;21mcalculator\u001b[39m(\u001b[38;5;241m*\u001b[39mnums, operation \u001b[38;5;241m=\u001b[39m \u001b[38;5;124m'\u001b[39m\u001b[38;5;124mADD\u001b[39m\u001b[38;5;124m'\u001b[39m, output_format \u001b[38;5;241m=\u001b[39m \u001b[38;5;28mfloat\u001b[39m):\n\u001b[0;32m      2\u001b[0m     \u001b[38;5;28;01mif\u001b[39;00m nums \u001b[38;5;241m==\u001b[39m ():\n\u001b[1;32m----> 3\u001b[0m         \u001b[38;5;28;01mraise\u001b[39;00m \u001b[38;5;167;01mValueError\u001b[39;00m(\u001b[38;5;124m'\u001b[39m\u001b[38;5;124mNo numbers are given!\u001b[39m\u001b[38;5;124m'\u001b[39m)\n\u001b[0;32m      4\u001b[0m     \u001b[38;5;28;01melif\u001b[39;00m operation \u001b[38;5;241m==\u001b[39m \u001b[38;5;124m'\u001b[39m\u001b[38;5;124mADD\u001b[39m\u001b[38;5;124m'\u001b[39m \u001b[38;5;129;01mand\u001b[39;00m (output_format \u001b[38;5;241m==\u001b[39m \u001b[38;5;28mfloat\u001b[39m \u001b[38;5;129;01mor\u001b[39;00m output_format \u001b[38;5;241m==\u001b[39m \u001b[38;5;28mint\u001b[39m):\n\u001b[0;32m      5\u001b[0m         \u001b[38;5;28;01mreturn\u001b[39;00m output_format(\u001b[38;5;28msum\u001b[39m(nums))\n",
            "\u001b[1;31mValueError\u001b[0m: No numbers are given!"
          ]
        }
      ],
      "source": [
        "print(calculator(6,3,5,1, operation='SUB'))\n",
        "print(calculator(4))\n",
        "print(calculator())"
      ]
    },
    {
      "cell_type": "markdown",
      "metadata": {
        "id": "waPyPT_Lx_rM"
      },
      "source": [
        "## Problem 2 --- Intersection of Two Dictionaries\n",
        "\n",
        "Write a function that takes as input two different dictionaries and filters the keys in each dictionary to only keep keys that exist in both dictionaries. Store your result as a list with two dictionaries. If no keys are shared between both dictionaries, return a list of empty dictionaries (see last example).\n"
      ]
    },
    {
      "cell_type": "code",
      "execution_count": 12,
      "metadata": {
        "id": "ve4sIXz1rHZE"
      },
      "outputs": [],
      "source": [
        "def intersection(dict1, dict2):\n",
        "    a = []\n",
        "    a.append({key: dict1[key] for key in dict1 if key in dict2})\n",
        "    a.append({key: dict2[key] for key in dict1 if key in dict2})\n",
        "    return a"
      ]
    },
    {
      "cell_type": "code",
      "execution_count": 13,
      "metadata": {
        "colab": {
          "base_uri": "https://localhost:8080/"
        },
        "id": "g-gthDGM0HzJ",
        "outputId": "ed6967d9-4d5f-432d-d33e-fdddadb7bd35"
      },
      "outputs": [
        {
          "name": "stdout",
          "output_type": "stream",
          "text": [
            "[{'b': 13, 'c': 7}, {'b': 5, 'c': 8}]\n",
            "[{'c': 7}, {'c': 9}]\n",
            "[{}, {}]\n"
          ]
        }
      ],
      "source": [
        "# examples\n",
        "dict1 = {\"a\": 5, \"b\": 13, \"c\": 7}\n",
        "dict2 = {\"b\": 5, \"c\": 8, \"d\": 91, \"e\": 99}\n",
        "dict3 = {\"a\": 1, \"b\": 34}\n",
        "dict4 = {\"c\": 9, \"d\": 8}\n",
        "\n",
        "print(intersection(dict1, dict2))\n",
        "print(intersection(dict1, dict4))\n",
        "print(intersection(dict3, dict4))\n"
      ]
    },
    {
      "cell_type": "markdown",
      "metadata": {
        "id": "OkDpsSjm37jW"
      },
      "source": [
        " ## Problem 3 --- Subset Validation\n",
        "\n",
        " Write a function that returns True if all subsets in a list belong to a given set.\n",
        "\n",
        " - The empty set and the set itself are both valid subsets of a set (we are not talking about proper subsets here).\n",
        "\n",
        "- The set and the subset will each have unique elements."
      ]
    },
    {
      "cell_type": "code",
      "execution_count": 26,
      "metadata": {
        "id": "R13vMGEK0IHL"
      },
      "outputs": [],
      "source": [
        "def validate_subsets(subsets, my_set):\n",
        "  for i in subsets:\n",
        "    for j in i:\n",
        "      if j not in my_set:\n",
        "        return False\n",
        "      else:\n",
        "        continue\n",
        "  return True\n",
        "        \n",
        "  \n",
        "        \n",
        "    "
      ]
    },
    {
      "cell_type": "code",
      "execution_count": 27,
      "metadata": {
        "colab": {
          "base_uri": "https://localhost:8080/"
        },
        "id": "9wGr2tA070h5",
        "outputId": "376028df-518d-4d6c-bb2f-313d74747dc5"
      },
      "outputs": [
        {
          "name": "stdout",
          "output_type": "stream",
          "text": [
            "True\n",
            "True\n",
            "False\n",
            "False\n"
          ]
        }
      ],
      "source": [
        "# examples\n",
        "print(validate_subsets([[1, 2], [2, 3], [1, 3]], [1, 2, 3]))\n",
        "print(validate_subsets([[1, 2, 3], [2], [3], []], [1, 2, 3]))\n",
        "print(validate_subsets([[1, 2], [2, 3], [1, 4]], [1, 2, 3]))\n",
        "print(validate_subsets([[1, 2, 3, 4]], [1, 2, 3]))"
      ]
    },
    {
      "cell_type": "code",
      "execution_count": null,
      "metadata": {
        "id": "YHueD8SfHf0B"
      },
      "outputs": [],
      "source": []
    },
    {
      "cell_type": "markdown",
      "metadata": {
        "id": "mr4WvmZuJQyD"
      },
      "source": [
        "## Problem 4 --- Anti Lists\n",
        "\n",
        "Given two lists, return whether the two lists are opposites of each other. That means both lists are comprised only from elements a and b and the occurrences of these elements are swapped between the two lists. All tests will include only two different elements."
      ]
    },
    {
      "cell_type": "code",
      "execution_count": 38,
      "metadata": {
        "id": "i-Hd4DWH8ApJ"
      },
      "outputs": [],
      "source": [
        "def is_anti_list(lst1, lst2):\n",
        "  return all(lst1[i] != lst2[i] for i in range(len(lst1)))"
      ]
    },
    {
      "cell_type": "code",
      "execution_count": 42,
      "metadata": {
        "colab": {
          "base_uri": "https://localhost:8080/"
        },
        "id": "0r-Wpn-2JgtW",
        "outputId": "d0c7e22d-06af-4a53-e12f-f79593f9a5af"
      },
      "outputs": [
        {
          "name": "stdout",
          "output_type": "stream",
          "text": [
            "True\n",
            "True\n",
            "False\n"
          ]
        }
      ],
      "source": [
        "# examples\n",
        "\n",
        "print(is_anti_list([\"1\", \"0\", \"0\", \"1\"], [\"0\", \"1\", \"1\", \"0\"]))\n",
        "\n",
        "print(is_anti_list([\"apples\", \"bananas\", \"bananas\"], [\"bananas\", \"apples\", \"apples\"]))\n",
        "\n",
        "print(is_anti_list([3.14, True, 3.14], [3.14, False, 3.14]))"
      ]
    },
    {
      "cell_type": "markdown",
      "metadata": {
        "id": "UPu6lHYzKdnh"
      },
      "source": [
        "## Problem 5 --- Oddly or Evenly Positioned From Last\n",
        "\n",
        "Create a lambda function that extracts the characters from a list (or a string) on odd or even positions, depending on the specifier. The string \"odd\" for items on odd positions (... 5, 3, 1) and \"even\" for even positions (... 6, 4, 2) from the last item of that list or string.\n",
        "\n"
      ]
    },
    {
      "cell_type": "code",
      "execution_count": 3,
      "metadata": {
        "id": "iZKr0wp_Jgu2"
      },
      "outputs": [],
      "source": [
        "char_at_pos = lambda x, spec: ([x[i+1] for i in range(len(x)) if i % 2 == 0 and spec == 'odd'], [x[i] for i in range(len(x)) if i % 2 != 0 and spec == 'even'])\n"
      ]
    },
    {
      "cell_type": "code",
      "execution_count": 4,
      "metadata": {
        "colab": {
          "base_uri": "https://localhost:8080/"
        },
        "id": "2Pi3U9buNHA3",
        "outputId": "2b89600c-d191-4788-9b1c-fe810230375a"
      },
      "outputs": [
        {
          "name": "stdout",
          "output_type": "stream",
          "text": [
            "([], [4, 8])\n",
            "(['a', 'z', 'e'], [])\n",
            "(['(', '&', '%', '#', '!'], [])\n"
          ]
        }
      ],
      "source": [
        "# expect outputs\n",
        "\n",
        "print(char_at_pos([2, 4, 6, 8, 10], \"even\"))\n",
        "# 4 & 8 occupy the 4th & 2nd positions from right.\n",
        "\n",
        "print(char_at_pos(\"Haozhe\", \"odd\"))\n",
        "# \"a\", \"z\" and \"e\" occupy the 5th, 3rd and 1st positions from right.\n",
        "\n",
        "print(char_at_pos([\")\", \"(\", \"*\", \"&\", \"^\", \"%\", \"$\", \"#\", \"@\", \"!\"], \"odd\"))"
      ]
    }
  ],
  "metadata": {
    "colab": {
      "provenance": [],
      "toc_visible": true
    },
    "kernelspec": {
      "display_name": "Python 3",
      "name": "python3"
    },
    "language_info": {
      "codemirror_mode": {
        "name": "ipython",
        "version": 3
      },
      "file_extension": ".py",
      "mimetype": "text/x-python",
      "name": "python",
      "nbconvert_exporter": "python",
      "pygments_lexer": "ipython3",
      "version": "3.11.5"
    }
  },
  "nbformat": 4,
  "nbformat_minor": 0
}
